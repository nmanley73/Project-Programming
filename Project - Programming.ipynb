{
 "cells": [
  {
   "cell_type": "markdown",
   "metadata": {},
   "source": [
    "## Project"
   ]
  },
  {
   "cell_type": "markdown",
   "metadata": {},
   "source": [
    "Solution to the project for Programming of Data Analysis. Author is Noel Manley (G00387903@hotmail.com)."
   ]
  },
  {
   "cell_type": "markdown",
   "metadata": {},
   "source": [
    " ### Solution\n",
    " ***"
   ]
  },
  {
   "cell_type": "markdown",
   "metadata": {},
   "source": [
    "#### Datasets"
   ]
  },
  {
   "cell_type": "markdown",
   "metadata": {},
   "source": [
    "A dataset is a collection of data or a database table where every column of the table is some attribute or variable of the item and each row is a record of data of the topic in question. Datasets come in number of different formats but i chose the comma seperated file as my source file. Each column is seperated from each other by a comma and the first row is a header row. A benefit of using csv files is that they are not part of a piece of software or platform and its also very simple to open in notepad. Datasets can also consist of a collection of files or images."
   ]
  },
  {
   "cell_type": "markdown",
   "metadata": {},
   "source": [
    "#### Research"
   ]
  },
  {
   "cell_type": "markdown",
   "metadata": {},
   "source": [
    "As part of my research into this project i consulted two dataset repositories [1] UC Irvine and [2] Vincent Arel Bundocks datasets. The dataset repositories consist of hundreds of data collections covering diverse range of topics from the price of Frozen Orange juice, Ship Accidents to Cardiac data for domestic dogs. This gave me an insight into the number and type of variables to include in my project. The values may be numberic for example representing a person's height in centimeters, text, and date values would be the most common datatypes. Viewing the list of datasets also gave me some inspiration to select the topic i choose for analysis. I created the dataset using with the help of an online help guide from wikihow[3].\n",
    "\n",
    "After some deliberation i decided to base my project around a topic which is current at the moment, COVID 19 and its determental effects on the economy and in particular the Pandemic Unemployment Payment (PUP). The PUP is an emergency social welfare payment introduced by the Government in mid March 2020 [4] in response to the COVID 19 pandemic and the requirement to go into lockdown to prevent the spread of the virus. The lockdown meant that many sectors of the economy were forced to close which in turn forced thousands of employed and self employed workers into unemployment. The PUP was designed to bridge the gap for employees during lockdown until those sectors of the economy reopened and they returned to work. Employees can apply for the PUP through MyWelfare.ie and there are a number of criteria that have to be met in order for the person to claim the payment.\n",
    "\n",
    "The dataset is based around 100 people who have lost their jobs due to the closure of their workplaces in response to the lockdown. The variables i have included are gender, age, tenure (the number of years employed by the company), job sector in which the individual was employed, the province in which they worked and the Payment Amount given to each individual and the number of days the person was signed up to the payment. \n",
    "\n",
    "It is important to build a dataset with a good variety of columns to ensure that some get meaningful results can be attained from the data. I have included some categorical variables which describes categories or groups. Numerical data fields are included and these can be further divided into discrete and continuous variables [5]. Continuous data is infinite, impossible to count, and can vary over time. Below is the breakdown of the type of variables in the PUP dataset i have created.\n",
    "\n",
    "- Person - Item\n",
    "- Gender - Categorical variable\n",
    "- Age - Continuous variable\n",
    "- Tenure - Continuous varaible\n",
    "- Job Sector - Categorical variable\n",
    "- Province - Categorical variable \n",
    "- Payment Amount - Continuous variable\n",
    "- Days - Continuous variable\n",
    "\n",
    "Once the dataset has been completed and finalised it has to be populated with data which is both meaningful and current. I consulted the Central Statistics Office website which contains a lot of statistical data in relation to the pandemic and the Pandemic Unemployment payment. The data was analysed and calculated to get the statistics required to populate the gender, age job sector and Province variables. I had only one numeric continuous variable at this point so i had to find a way to generate more continuous variables that would enhance the dataset and also would make sense with the other data [6]. With that in mind i created the deregistered and No.of days variables and generated the data based upon when each job sector came out of lockdown. So the accomodation and food sector came out of lockdown on June 29th so inserted that date for all records from that sector in the job sector field. The number of days was attained by subtracting the deregistered date from March 13th when the lockdown measures were announced. The tenure field was more difficult to populate in that i did not find any publication for Ireland that dealt with the duration of time that people of varying ages stay in a particular job. This type of data would be of a private nature for companies and would be protected by the various state privacy laws. I had to make a number of assumptions to generate data for tenure. Young people given their age would be in current positions for a far shorter timeframe than middle aged and people reaching retirement age-many jobs would br part time. Older people from age 40 upwrads would be much more settled in the company in which they work as they may have more senior roles and closer to retirement. Also generally speaking employees would remain longer in a bigger company specialising in financial, scientific or professional environment where a high qualification in education is required rather than in a retail or accomodation setting."
   ]
  },
  {
   "cell_type": "code",
   "execution_count": 2,
   "metadata": {},
   "outputs": [
    {
     "data": {
      "text/html": [
       "<div>\n",
       "<style scoped>\n",
       "    .dataframe tbody tr th:only-of-type {\n",
       "        vertical-align: middle;\n",
       "    }\n",
       "\n",
       "    .dataframe tbody tr th {\n",
       "        vertical-align: top;\n",
       "    }\n",
       "\n",
       "    .dataframe thead th {\n",
       "        text-align: right;\n",
       "    }\n",
       "</style>\n",
       "<table border=\"1\" class=\"dataframe\">\n",
       "  <thead>\n",
       "    <tr style=\"text-align: right;\">\n",
       "      <th></th>\n",
       "      <th>Name</th>\n",
       "      <th>Gender</th>\n",
       "      <th>Age</th>\n",
       "      <th>Tenure</th>\n",
       "      <th>Job_Sector</th>\n",
       "      <th>Province</th>\n",
       "      <th>Amount</th>\n",
       "      <th>Days</th>\n",
       "    </tr>\n",
       "  </thead>\n",
       "  <tbody>\n",
       "    <tr>\n",
       "      <th>0</th>\n",
       "      <td>Mark Leonard</td>\n",
       "      <td>Male</td>\n",
       "      <td>35</td>\n",
       "      <td>12</td>\n",
       "      <td>Accomodation &amp; Food Services</td>\n",
       "      <td>Leinster</td>\n",
       "      <td>250</td>\n",
       "      <td>108</td>\n",
       "    </tr>\n",
       "    <tr>\n",
       "      <th>1</th>\n",
       "      <td>Darragh McGowan</td>\n",
       "      <td>Male</td>\n",
       "      <td>18</td>\n",
       "      <td>1</td>\n",
       "      <td>Accomodation &amp; Food Services</td>\n",
       "      <td>Ulster</td>\n",
       "      <td>203</td>\n",
       "      <td>108</td>\n",
       "    </tr>\n",
       "    <tr>\n",
       "      <th>2</th>\n",
       "      <td>Amy Walsh</td>\n",
       "      <td>Female</td>\n",
       "      <td>36</td>\n",
       "      <td>13</td>\n",
       "      <td>Accomodation &amp; Food Services</td>\n",
       "      <td>Ulster</td>\n",
       "      <td>250</td>\n",
       "      <td>108</td>\n",
       "    </tr>\n",
       "    <tr>\n",
       "      <th>3</th>\n",
       "      <td>Liam OHara</td>\n",
       "      <td>Male</td>\n",
       "      <td>39</td>\n",
       "      <td>18</td>\n",
       "      <td>Agriculture &amp; Fisheries</td>\n",
       "      <td>Munster</td>\n",
       "      <td>350</td>\n",
       "      <td>87</td>\n",
       "    </tr>\n",
       "    <tr>\n",
       "      <th>4</th>\n",
       "      <td>Adrian Harte</td>\n",
       "      <td>Male</td>\n",
       "      <td>25</td>\n",
       "      <td>3</td>\n",
       "      <td>Manufacturing</td>\n",
       "      <td>Munster</td>\n",
       "      <td>300</td>\n",
       "      <td>108</td>\n",
       "    </tr>\n",
       "    <tr>\n",
       "      <th>...</th>\n",
       "      <td>...</td>\n",
       "      <td>...</td>\n",
       "      <td>...</td>\n",
       "      <td>...</td>\n",
       "      <td>...</td>\n",
       "      <td>...</td>\n",
       "      <td>...</td>\n",
       "      <td>...</td>\n",
       "    </tr>\n",
       "    <tr>\n",
       "      <th>95</th>\n",
       "      <td>Elaine ORourke</td>\n",
       "      <td>Female</td>\n",
       "      <td>24</td>\n",
       "      <td>1</td>\n",
       "      <td>Retail</td>\n",
       "      <td>Leinster</td>\n",
       "      <td>250</td>\n",
       "      <td>87</td>\n",
       "    </tr>\n",
       "    <tr>\n",
       "      <th>96</th>\n",
       "      <td>Ciaran Lee</td>\n",
       "      <td>Male</td>\n",
       "      <td>42</td>\n",
       "      <td>6</td>\n",
       "      <td>Accomodation &amp; Food Services</td>\n",
       "      <td>Leinster</td>\n",
       "      <td>250</td>\n",
       "      <td>108</td>\n",
       "    </tr>\n",
       "    <tr>\n",
       "      <th>97</th>\n",
       "      <td>Michelle Reynolds</td>\n",
       "      <td>Female</td>\n",
       "      <td>32</td>\n",
       "      <td>4</td>\n",
       "      <td>Beauty</td>\n",
       "      <td>Leinster</td>\n",
       "      <td>250</td>\n",
       "      <td>108</td>\n",
       "    </tr>\n",
       "    <tr>\n",
       "      <th>98</th>\n",
       "      <td>Rose Rafferty</td>\n",
       "      <td>Female</td>\n",
       "      <td>24</td>\n",
       "      <td>4</td>\n",
       "      <td>Professional &amp; Scientific</td>\n",
       "      <td>Leinster</td>\n",
       "      <td>350</td>\n",
       "      <td>108</td>\n",
       "    </tr>\n",
       "    <tr>\n",
       "      <th>99</th>\n",
       "      <td>Lisa McNulty</td>\n",
       "      <td>Female</td>\n",
       "      <td>30</td>\n",
       "      <td>5</td>\n",
       "      <td>Accomodation &amp; Food Services</td>\n",
       "      <td>Leinster</td>\n",
       "      <td>300</td>\n",
       "      <td>108</td>\n",
       "    </tr>\n",
       "  </tbody>\n",
       "</table>\n",
       "<p>100 rows × 8 columns</p>\n",
       "</div>"
      ],
      "text/plain": [
       "                 Name  Gender  Age  Tenure                    Job_Sector  \\\n",
       "0        Mark Leonard    Male   35      12  Accomodation & Food Services   \n",
       "1     Darragh McGowan    Male   18       1  Accomodation & Food Services   \n",
       "2           Amy Walsh  Female   36      13  Accomodation & Food Services   \n",
       "3          Liam OHara    Male   39      18       Agriculture & Fisheries   \n",
       "4        Adrian Harte    Male   25       3                 Manufacturing   \n",
       "..                ...     ...  ...     ...                           ...   \n",
       "95     Elaine ORourke  Female   24       1                        Retail   \n",
       "96         Ciaran Lee    Male   42       6  Accomodation & Food Services   \n",
       "97  Michelle Reynolds  Female   32       4                        Beauty   \n",
       "98      Rose Rafferty  Female   24       4     Professional & Scientific   \n",
       "99       Lisa McNulty  Female   30       5  Accomodation & Food Services   \n",
       "\n",
       "    Province  Amount  Days  \n",
       "0   Leinster     250   108  \n",
       "1     Ulster     203   108  \n",
       "2     Ulster     250   108  \n",
       "3    Munster     350    87  \n",
       "4    Munster     300   108  \n",
       "..       ...     ...   ...  \n",
       "95  Leinster     250    87  \n",
       "96  Leinster     250   108  \n",
       "97  Leinster     250   108  \n",
       "98  Leinster     350   108  \n",
       "99  Leinster     300   108  \n",
       "\n",
       "[100 rows x 8 columns]"
      ]
     },
     "execution_count": 2,
     "metadata": {},
     "output_type": "execute_result"
    }
   ],
   "source": [
    "import pandas as pd\n",
    "\n",
    "df = pd.read_csv(\"C:\\DA_Projects\\Programming\\Project\\Project-Programming/PUP_Payment_Dataset.csv\")\n",
    "df"
   ]
  },
  {
   "cell_type": "markdown",
   "metadata": {},
   "source": [
    "#### Histograms of individual variables"
   ]
  },
  {
   "cell_type": "markdown",
   "metadata": {},
   "source": [
    "Most people in the dataset are from Leinster. Understandable given the bulk of the population are from Dublin and it suburbs. Ulster and Connaught have least number of people getting the PUP payment."
   ]
  },
  {
   "cell_type": "code",
   "execution_count": 3,
   "metadata": {},
   "outputs": [
    {
     "data": {
      "image/png": "[encoded data removed]",
      "text/plain": [
       "<Figure size 432x288 with 1 Axes>"
      ]
     },
     "metadata": {
      "needs_background": "light"
     },
     "output_type": "display_data"
    }
   ],
   "source": [
    "import seaborn as sns\n",
    "import matplotlib.pyplot as plt\n",
    "\n",
    "plt.hist(df[\"Province\"], bins=10)\n",
    "plt.ylabel(\"Number\")\n",
    "plt.title(\"Histogram of Province\")\n",
    "plt.show()"
   ]
  },
  {
   "cell_type": "markdown",
   "metadata": {},
   "source": [
    "There are marginally more women than men getting the PUP payment. Probably due to the fatc that many men work in the outdoors environment where there is less chance of spread of the virus. Also more women work in the retail and accomodation sectors which are the largest 2 job sectors in the dataset."
   ]
  },
  {
   "cell_type": "code",
   "execution_count": 4,
   "metadata": {},
   "outputs": [
    {
     "data": {
      "image/png": "[encoded data removed]",
      "text/plain": [
       "<Figure size 432x288 with 1 Axes>"
      ]
     },
     "metadata": {
      "needs_background": "light"
     },
     "output_type": "display_data"
    }
   ],
   "source": [
    "import seaborn as sns\n",
    "import matplotlib.pyplot as plt\n",
    "\n",
    "plt.hist(df[\"Gender\"], bins=5)\n",
    "plt.ylabel(\"Number\")\n",
    "plt.title(\"Histogram of Gender\")\n",
    "plt.show()"
   ]
  },
  {
   "cell_type": "markdown",
   "metadata": {},
   "source": [
    "Most employees came off the PUP on June 29th when most of the job sector were allowed to reopen after lockdown. Construction sector returned on May 15th and retail returned on June 8th, The arts sector have still to return to work and are still getting the payment."
   ]
  },
  {
   "cell_type": "code",
   "execution_count": 5,
   "metadata": {},
   "outputs": [
    {
     "data": {
      "image/png": "[encoded data removed]",
      "text/plain": [
       "<Figure size 432x288 with 1 Axes>"
      ]
     },
     "metadata": {
      "needs_background": "light"
     },
     "output_type": "display_data"
    }
   ],
   "source": [
    "import seaborn as sns\n",
    "import matplotlib.pyplot as plt\n",
    "\n",
    "plt.hist(df[\"Amount\"], bins=8)\n",
    "plt.ylabel(\"Number\")\n",
    "plt.title(\"Payment Amount\")\n",
    "plt.show()"
   ]
  },
  {
   "cell_type": "markdown",
   "metadata": {},
   "source": [
    "Most of the employees have been in their current position for less than 5 years."
   ]
  },
  {
   "cell_type": "code",
   "execution_count": 6,
   "metadata": {},
   "outputs": [
    {
     "data": {
      "image/png": "[encoded data removed]",
      "text/plain": [
       "<Figure size 432x288 with 1 Axes>"
      ]
     },
     "metadata": {
      "needs_background": "light"
     },
     "output_type": "display_data"
    }
   ],
   "source": [
    "import seaborn as sns\n",
    "import matplotlib.pyplot as plt\n",
    "\n",
    "plt.hist(df[\"Tenure\"], bins=9)\n",
    "plt.ylabel(\"Number\")\n",
    "#plt.xlabel(\"Tenure\")\n",
    "plt.title(\"Histogram of Tenure\")\n",
    "plt.show()"
   ]
  },
  {
   "cell_type": "markdown",
   "metadata": {},
   "source": [
    "The describe() script below displays the some decriptive statistics of the numerical columns. Mean age of those applying for PUP is 36, tenure is over 8 years and Days on the payment 104 days."
   ]
  },
  {
   "cell_type": "code",
   "execution_count": 7,
   "metadata": {},
   "outputs": [
    {
     "data": {
      "text/html": [
       "<div>\n",
       "<style scoped>\n",
       "    .dataframe tbody tr th:only-of-type {\n",
       "        vertical-align: middle;\n",
       "    }\n",
       "\n",
       "    .dataframe tbody tr th {\n",
       "        vertical-align: top;\n",
       "    }\n",
       "\n",
       "    .dataframe thead th {\n",
       "        text-align: right;\n",
       "    }\n",
       "</style>\n",
       "<table border=\"1\" class=\"dataframe\">\n",
       "  <thead>\n",
       "    <tr style=\"text-align: right;\">\n",
       "      <th></th>\n",
       "      <th>Age</th>\n",
       "      <th>Tenure</th>\n",
       "      <th>Amount</th>\n",
       "      <th>Days</th>\n",
       "    </tr>\n",
       "  </thead>\n",
       "  <tbody>\n",
       "    <tr>\n",
       "      <th>count</th>\n",
       "      <td>100.000000</td>\n",
       "      <td>100.000000</td>\n",
       "      <td>100.000000</td>\n",
       "      <td>100.000000</td>\n",
       "    </tr>\n",
       "    <tr>\n",
       "      <th>mean</th>\n",
       "      <td>36.380000</td>\n",
       "      <td>8.350000</td>\n",
       "      <td>291.630000</td>\n",
       "      <td>104.910000</td>\n",
       "    </tr>\n",
       "    <tr>\n",
       "      <th>std</th>\n",
       "      <td>13.186142</td>\n",
       "      <td>8.062101</td>\n",
       "      <td>59.082489</td>\n",
       "      <td>33.735482</td>\n",
       "    </tr>\n",
       "    <tr>\n",
       "      <th>min</th>\n",
       "      <td>18.000000</td>\n",
       "      <td>1.000000</td>\n",
       "      <td>203.000000</td>\n",
       "      <td>63.000000</td>\n",
       "    </tr>\n",
       "    <tr>\n",
       "      <th>25%</th>\n",
       "      <td>24.000000</td>\n",
       "      <td>3.000000</td>\n",
       "      <td>250.000000</td>\n",
       "      <td>87.000000</td>\n",
       "    </tr>\n",
       "    <tr>\n",
       "      <th>50%</th>\n",
       "      <td>35.500000</td>\n",
       "      <td>5.000000</td>\n",
       "      <td>300.000000</td>\n",
       "      <td>108.000000</td>\n",
       "    </tr>\n",
       "    <tr>\n",
       "      <th>75%</th>\n",
       "      <td>47.000000</td>\n",
       "      <td>12.000000</td>\n",
       "      <td>350.000000</td>\n",
       "      <td>108.000000</td>\n",
       "    </tr>\n",
       "    <tr>\n",
       "      <th>max</th>\n",
       "      <td>64.000000</td>\n",
       "      <td>37.000000</td>\n",
       "      <td>350.000000</td>\n",
       "      <td>279.000000</td>\n",
       "    </tr>\n",
       "  </tbody>\n",
       "</table>\n",
       "</div>"
      ],
      "text/plain": [
       "              Age      Tenure      Amount        Days\n",
       "count  100.000000  100.000000  100.000000  100.000000\n",
       "mean    36.380000    8.350000  291.630000  104.910000\n",
       "std     13.186142    8.062101   59.082489   33.735482\n",
       "min     18.000000    1.000000  203.000000   63.000000\n",
       "25%     24.000000    3.000000  250.000000   87.000000\n",
       "50%     35.500000    5.000000  300.000000  108.000000\n",
       "75%     47.000000   12.000000  350.000000  108.000000\n",
       "max     64.000000   37.000000  350.000000  279.000000"
      ]
     },
     "execution_count": 7,
     "metadata": {},
     "output_type": "execute_result"
    }
   ],
   "source": [
    "import pandas as pd\n",
    "import matplotlib.pyplot as plt\n",
    "\n",
    "df.describe()"
   ]
  },
  {
   "cell_type": "markdown",
   "metadata": {},
   "source": [
    "#### Plotting relationships between variables"
   ]
  },
  {
   "cell_type": "markdown",
   "metadata": {},
   "source": [
    "The below plot displays a distinct pattern or relationship between the age and tenure variables. As expected the younger employee is likely to be in the job for a short period of time as they are just out of school. The older employee tends to stay longer in their job as they are settled, are in a senior position and chances of getting as good a job as their current position is unlikely. There are some outliers to this as whereby employees over 40 have changed positions perhaps after a career change or promotion into another company."
   ]
  },
  {
   "cell_type": "markdown",
   "metadata": {},
   "source": [
    "The scatter plot below shows the relationship by Province which shows a stronger relationship for Connaught employees. This is probably due to less alternative employment oppurtunities in the west compared to other parts of the country and peopl stay in their jobs longer."
   ]
  },
  {
   "cell_type": "code",
   "execution_count": 9,
   "metadata": {},
   "outputs": [
    {
     "data": {
      "image/png": "[encoded data removed]",
      "text/plain": [
       "<Figure size 720x288 with 1 Axes>"
      ]
     },
     "metadata": {},
     "output_type": "display_data"
    }
   ],
   "source": [
    "# makes plot bigger\n",
    "plt.rcParams['figure.figsize'] = (10.0, 4.0)\n",
    "# tidier plot\n",
    "plt.style.use(\"ggplot\")\n",
    "# plot Age and tenure to see relationship\n",
    "conn = df.loc[df[\"Province\"]==\"Connaught\"]\n",
    "lein = df.loc[df[\"Province\"]==\"Leinster\"]\n",
    "mun = df.loc[df[\"Province\"]==\"Munster\"]\n",
    "uls = df.loc[df[\"Province\"]==\"Ulster\"]\n",
    "\n",
    "plt.plot(conn[\"Age\"], conn[\"Tenure\"],'r.', label = 'Connaught')\n",
    "plt.plot(lein[\"Age\"],lein[\"Tenure\"], 'b.', label = 'Leinster')\n",
    "plt.plot(mun[\"Age\"],mun[\"Tenure\"],'g.', label = 'Munster')\n",
    "plt.plot(uls[\"Age\"],uls[\"Tenure\"],'c.', label = 'Ulster')\n",
    "plt.legend()\n",
    "plt.title(\"Tenure vs Age\")\n",
    "#plt.ylabel(\"Tenure\")\n",
    "#plt.xlabel(\"Age\")\n",
    "plt.show()"
   ]
  },
  {
   "cell_type": "markdown",
   "metadata": {},
   "source": [
    "There is no pattern or relationship between Age and the number of days employees spent on the PUP as all employees returned to work at the same time after lockdown. This would be true also of the relationship between tenure and days on PUP."
   ]
  },
  {
   "cell_type": "code",
   "execution_count": 10,
   "metadata": {},
   "outputs": [
    {
     "data": {
      "image/png": "[encoded data removed]",
      "text/plain": [
       "<Figure size 720x288 with 1 Axes>"
      ]
     },
     "metadata": {},
     "output_type": "display_data"
    }
   ],
   "source": [
    "# makes plot bigger\n",
    "plt.rcParams['figure.figsize'] = (10.0, 4.0)\n",
    "# tidier plot\n",
    "plt.style.use(\"ggplot\")\n",
    "# plot Age and tenure to see relationship\n",
    "plt.plot(df[\"Age\"], df[\"Amount\"],'.')\n",
    "plt.title(\"Age vs Days\")\n",
    "#plt.ylabel(\"Tenure\")\n",
    "#plt.xlabel(\"Age\")\n",
    "plt.show()"
   ]
  },
  {
   "cell_type": "code",
   "execution_count": 77,
   "metadata": {},
   "outputs": [
    {
     "data": {
      "image/png": "[encoded data removed]",
      "text/plain": [
       "<Figure size 720x288 with 1 Axes>"
      ]
     },
     "metadata": {},
     "output_type": "display_data"
    }
   ],
   "source": [
    "# makes plot bigger\n",
    "plt.rcParams['figure.figsize'] = (10.0, 4.0)\n",
    "# tidier plot\n",
    "plt.style.use(\"ggplot\")\n",
    "# plot Age and tenure to see relationship\n",
    "m = df.loc[df[\"Gender\"]==\"Male\"]\n",
    "f = df.loc[df[\"Gender\"]==\"Female\"]\n",
    "\n",
    "plt.plot(m[\"Age\"], m[\"Tenure\"],'r.', label = 'Male')\n",
    "plt.plot(f[\"Age\"],f[\"Tenure\"], 'b.', label = 'Female')\n",
    "plt.legend()\n",
    "plt.title(\"Tenure vs Age\")\n",
    "#plt.ylabel(\"Tenure\")\n",
    "#plt.xlabel(\"Age\")\n",
    "plt.show()"
   ]
  },
  {
   "cell_type": "markdown",
   "metadata": {},
   "source": [
    "The comparison between tenure and Job Sector would suggest that in the Accomodation & Food services, retail and construction sectors employees don't stay as long in the same job. This would probably be due to the seasonal nature and the tendancy for younger employees to take these jobs in a part-time role which studying. In contrast even though there are less of these roles in the sample of data employees tend to stay longer in the professional & Scientific, Information & Arts roles. "
   ]
  },
  {
   "cell_type": "code",
   "execution_count": 86,
   "metadata": {},
   "outputs": [
    {
     "data": {
      "image/png": "[encoded data removed]",
      "text/plain": [
       "<Figure size 720x288 with 1 Axes>"
      ]
     },
     "metadata": {},
     "output_type": "display_data"
    }
   ],
   "source": [
    "# makes plot bigger\n",
    "plt.rcParams['figure.figsize'] = (10.0, 4.0)\n",
    "# tidier plot\n",
    "plt.style.use(\"ggplot\")\n",
    "# plot Age and tenure to see relationship\n",
    "plt.plot(df[\"Tenure\"], df[\"Job_Sector\"],'.')\n",
    "plt.title(\"Tenure vs Job Sector\")\n",
    "#plt.ylabel(\"Tenure\")\n",
    "#plt.xlabel(\"Age\")\n",
    "plt.show()"
   ]
  },
  {
   "cell_type": "markdown",
   "metadata": {},
   "source": [
    "### References"
   ]
  },
  {
   "cell_type": "markdown",
   "metadata": {},
   "source": [
    "[1]-UCI: Machine Learning Repository; https://archive.ics.uci.edu/ml/datasets.php\n",
    "\n",
    "[2]-Vincent Arel Bundock: Available datasets; https://vincentarelbundock.github.io/Rdatasets/articles/data.html\n",
    "\n",
    "[3]-wikihow: How to Create a CSV File; https://www.wikihow.com/Create-a-CSV-File\n",
    "\n",
    "[4]-Citizens Information: COVID-19 Pandemic Unemployment Payment; https://www.citizensinformation.ie/en/social_welfare/social_welfare_payments/unemployed_people/covid19_pandemic_unemployment_payment.html#\n",
    "\n",
    "[5]-365DataScience: Examples of Numerical and Categorical Variables; https://365datascience.com/numerical-categorical-data/\n",
    "\n",
    "[6]-Alteryx.com: Synthesizing Fake Data for Fun and Profit; https://community.alteryx.com/t5/Data-Science/Synthesizing-Fake-Data-for-Fun-and-Profit/ba-p/427345\n",
    "\n",
    "[3]-gov.ie: COVID-19 Pandemic Unemployment Payment; https://www.gov.ie/en/service/be74d3-covid-19-pandemic-unemployment-payment/#\n",
    "\n",
    "https://www.gov.ie/en/press-release/34be6-update-on-payments-awarded-for-covid-19-pandemic-unemployment-payment-and-enhanced-illness-benefit/\n",
    "\n",
    "\n",
    "\n"
   ]
  },
  {
   "cell_type": "code",
   "execution_count": null,
   "metadata": {},
   "outputs": [],
   "source": []
  }
 ],
 "metadata": {
  "kernelspec": {
   "display_name": "Python 3",
   "language": "python",
   "name": "python3"
  },
  "language_info": {
   "codemirror_mode": {
    "name": "ipython",
    "version": 3
   },
   "file_extension": ".py",
   "mimetype": "text/x-python",
   "name": "python",
   "nbconvert_exporter": "python",
   "pygments_lexer": "ipython3",
   "version": "3.8.5"
  }
 },
 "nbformat": 4,
 "nbformat_minor": 4
}
