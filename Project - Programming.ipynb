{
 "cells": [
  {
   "cell_type": "markdown",
   "metadata": {},
   "source": [
    "## Project"
   ]
  },
  {
   "cell_type": "markdown",
   "metadata": {},
   "source": [
    "Solution to the project for Programming of Data Analysis. Author is Noel Manley (G00387903@hotmail.com)."
   ]
  },
  {
   "cell_type": "markdown",
   "metadata": {},
   "source": [
    " ### Solution"
   ]
  },
  {
   "cell_type": "markdown",
   "metadata": {},
   "source": [
    "As part of my research into this project i consulted two dataset repositories [1] UC Irvine and [2] Vincent Arel Bundocks datasets. The dataset repositories consist of hundreds of data collections covering diverse topics from price of Frozen Orange juice, Ship Accidents to Cardiac data for domestic dogs. A dataset is a collection of data or database table where every column in the of the table is some attribute or variable and each row is a record of data of the topic in question. Datasets can also consist of a collection of files or images.\n",
    "\n",
    "\n",
    "After a lot of deliberation i decided to base my project around a topic which is very current at the moment the Pandemic Unemployment Payment (PUP). The PUP is a social welfare payment for employees and self employed workers who have lost their employment either temporarily or permanently from March 13th onwards as a result of the COVID 19 pandemic"
   ]
  },
  {
   "cell_type": "code",
   "execution_count": null,
   "metadata": {},
   "outputs": [],
   "source": []
  },
  {
   "cell_type": "code",
   "execution_count": null,
   "metadata": {},
   "outputs": [],
   "source": []
  },
  {
   "cell_type": "code",
   "execution_count": null,
   "metadata": {},
   "outputs": [],
   "source": []
  },
  {
   "cell_type": "markdown",
   "metadata": {},
   "source": [
    "### References"
   ]
  },
  {
   "cell_type": "markdown",
   "metadata": {},
   "source": [
    "[1]-UCI: Machine Learning Repository; https://archive.ics.uci.edu/ml/datasets.php\n",
    "\n",
    "[2]-Vincent Arel Bundock: Available datasets; https://vincentarelbundock.github.io/Rdatasets/articles/data.html\n",
    "\n",
    "[3]-wikihow: How to Create a CSV File; https://www.wikihow.com/Create-a-CSV-File\n",
    "\n",
    "\n",
    "\n",
    "[3]-gov.ie: COVID-19 Pandemic Unemployment Payment; https://www.gov.ie/en/service/be74d3-covid-19-pandemic-unemployment-payment/#\n",
    "\n",
    "\n",
    "\n"
   ]
  }
 ],
 "metadata": {
  "kernelspec": {
   "display_name": "Python 3",
   "language": "python",
   "name": "python3"
  },
  "language_info": {
   "codemirror_mode": {
    "name": "ipython",
    "version": 3
   },
   "file_extension": ".py",
   "mimetype": "text/x-python",
   "name": "python",
   "nbconvert_exporter": "python",
   "pygments_lexer": "ipython3",
   "version": "3.8.5"
  }
 },
 "nbformat": 4,
 "nbformat_minor": 4
}
