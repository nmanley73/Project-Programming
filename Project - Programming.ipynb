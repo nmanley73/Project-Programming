{
 "cells": [
  {
   "cell_type": "markdown",
   "metadata": {},
   "source": [
    "## Project"
   ]
  },
  {
   "cell_type": "markdown",
   "metadata": {},
   "source": [
    "Solution to the project for Programming of Data Analysis. Author is Noel Manley (G00387903@hotmail.com)."
   ]
  },
  {
   "cell_type": "markdown",
   "metadata": {},
   "source": [
    " ### Solution\n",
    " ***"
   ]
  },
  {
   "cell_type": "markdown",
   "metadata": {},
   "source": [
    "#### Datasets"
   ]
  },
  {
   "cell_type": "markdown",
   "metadata": {},
   "source": [
    "A dataset is a collection of data or a database table where every column of the table is some attribute or variable of the item and each row is a record of data of the topic in question. Datasets come in number of different formats but i chose the comma seperated file as my source file. Each column is seperated from each other by a comma and the first row is a header row. A benefit of using csv files is that they are not part of a piece of software or platform and its also very simple to open in notepad. Datasets can also consist of a collection of files or images."
   ]
  },
  {
   "cell_type": "markdown",
   "metadata": {},
   "source": [
    "#### Research"
   ]
  },
  {
   "cell_type": "markdown",
   "metadata": {},
   "source": [
    "As part of my research into this project i consulted two dataset repositories [1] UC Irvine and [2] Vincent Arel Bundocks datasets. The dataset repositories consist of hundreds of data collections covering diverse range of topics from the price of Frozen Orange juice, Ship Accidents to Cardiac data for domestic dogs. This gave me an insight into the number and type of variables to include in my project. The values may be numberic for example representing a person's height in centimeters, text, and date values would be the most common datatypes. Viewing the list of datasets also gave me some inspiration to select the topic i choose for analysis. I created the dataset using with the help of an online help guide from wikihow[3].\n",
    "\n",
    "After some deliberation i decided to base my project around a topic which is current at the moment, COVID 19 and its determental effects on the economy and in particular the Pandemic Unemployment Payment (PUP). The PUP is an emergency social welfare payment introduced by the Government in mid March 2020 [4] in response to the COVID 19 pandemic and the requirement to go into lockdown to prevent the spread of the virus. The lockdown meant that many sectors of the economy were forced to close which in turn forced thousands of employed and self employed workers into unemployment. The PUP was designed to bridge the gap for employees during lockdown until those sectors of the economy reopened and they returned to work. Employees can apply for the PUP through MyWelfare.ie and there are a number of criteria that have to be met in order for the person to claim the payment.\n",
    "\n",
    "The dataset is based around 100 people who have lost their jobs due to the closure of their workplaces in response to the lockdown. The main variables are gender, age range, tenure (the number of years employed by the company), job sector in which the individual was employed, the province in which they worked and the date in which they de-registered themselves from the PUP payment and went back to work. The Central Statistics Office website contains a lot of statistical data in relation to the pandemic and the Pandemic Unemployment payment. The values inserted into the gender, age-range and job sector variables were based on the percentage values of the Central Statistics Office. The de-registered date data was populated from when each of the job sector values returned from lockdown."
   ]
  },
  {
   "cell_type": "code",
   "execution_count": 12,
   "metadata": {},
   "outputs": [
    {
     "data": {
      "text/html": [
       "<div>\n",
       "<style scoped>\n",
       "    .dataframe tbody tr th:only-of-type {\n",
       "        vertical-align: middle;\n",
       "    }\n",
       "\n",
       "    .dataframe tbody tr th {\n",
       "        vertical-align: top;\n",
       "    }\n",
       "\n",
       "    .dataframe thead th {\n",
       "        text-align: right;\n",
       "    }\n",
       "</style>\n",
       "<table border=\"1\" class=\"dataframe\">\n",
       "  <thead>\n",
       "    <tr style=\"text-align: right;\">\n",
       "      <th></th>\n",
       "      <th>Name</th>\n",
       "      <th>Gender</th>\n",
       "      <th>Age</th>\n",
       "      <th>Tenure</th>\n",
       "      <th>Job_Sector</th>\n",
       "      <th>Province</th>\n",
       "      <th>Deregistered</th>\n",
       "    </tr>\n",
       "  </thead>\n",
       "  <tbody>\n",
       "    <tr>\n",
       "      <th>0</th>\n",
       "      <td>Mark Leonard</td>\n",
       "      <td>Male</td>\n",
       "      <td>35</td>\n",
       "      <td>12</td>\n",
       "      <td>Accomodation &amp; Food Services</td>\n",
       "      <td>Leinster</td>\n",
       "      <td>29/06/2020</td>\n",
       "    </tr>\n",
       "    <tr>\n",
       "      <th>1</th>\n",
       "      <td>Darragh McGowan</td>\n",
       "      <td>Male</td>\n",
       "      <td>18</td>\n",
       "      <td>1</td>\n",
       "      <td>Accomodation &amp; Food Services</td>\n",
       "      <td>Ulster</td>\n",
       "      <td>29/06/2020</td>\n",
       "    </tr>\n",
       "    <tr>\n",
       "      <th>2</th>\n",
       "      <td>Amy Walsh</td>\n",
       "      <td>Female</td>\n",
       "      <td>36</td>\n",
       "      <td>13</td>\n",
       "      <td>Accomodation &amp; Food Services</td>\n",
       "      <td>Ulster</td>\n",
       "      <td>29/06/2020</td>\n",
       "    </tr>\n",
       "    <tr>\n",
       "      <th>3</th>\n",
       "      <td>Liam OHara</td>\n",
       "      <td>Male</td>\n",
       "      <td>39</td>\n",
       "      <td>18</td>\n",
       "      <td>Agriculture &amp; Fisheries</td>\n",
       "      <td>Munster</td>\n",
       "      <td>08/06/2020</td>\n",
       "    </tr>\n",
       "    <tr>\n",
       "      <th>4</th>\n",
       "      <td>Adrian Harte</td>\n",
       "      <td>Male</td>\n",
       "      <td>25</td>\n",
       "      <td>3</td>\n",
       "      <td>Manufacturing</td>\n",
       "      <td>Munster</td>\n",
       "      <td>29/06/2020</td>\n",
       "    </tr>\n",
       "    <tr>\n",
       "      <th>...</th>\n",
       "      <td>...</td>\n",
       "      <td>...</td>\n",
       "      <td>...</td>\n",
       "      <td>...</td>\n",
       "      <td>...</td>\n",
       "      <td>...</td>\n",
       "      <td>...</td>\n",
       "    </tr>\n",
       "    <tr>\n",
       "      <th>95</th>\n",
       "      <td>Elaine ORourke</td>\n",
       "      <td>Female</td>\n",
       "      <td>24</td>\n",
       "      <td>1</td>\n",
       "      <td>Retail</td>\n",
       "      <td>Leinster</td>\n",
       "      <td>08/06/2020</td>\n",
       "    </tr>\n",
       "    <tr>\n",
       "      <th>96</th>\n",
       "      <td>Ciara Lee</td>\n",
       "      <td>Female</td>\n",
       "      <td>42</td>\n",
       "      <td>6</td>\n",
       "      <td>Accomodation &amp; Food Services</td>\n",
       "      <td>Leinster</td>\n",
       "      <td>29/06/2020</td>\n",
       "    </tr>\n",
       "    <tr>\n",
       "      <th>97</th>\n",
       "      <td>Michelle Reynolds</td>\n",
       "      <td>Female</td>\n",
       "      <td>32</td>\n",
       "      <td>4</td>\n",
       "      <td>Beauty</td>\n",
       "      <td>Leinster</td>\n",
       "      <td>29/06/2020</td>\n",
       "    </tr>\n",
       "    <tr>\n",
       "      <th>98</th>\n",
       "      <td>Rose Rafferty</td>\n",
       "      <td>Female</td>\n",
       "      <td>24</td>\n",
       "      <td>4</td>\n",
       "      <td>Professional &amp; Scientific</td>\n",
       "      <td>Leinster</td>\n",
       "      <td>29/06/2020</td>\n",
       "    </tr>\n",
       "    <tr>\n",
       "      <th>99</th>\n",
       "      <td>Lisa McNulty</td>\n",
       "      <td>Female</td>\n",
       "      <td>30</td>\n",
       "      <td>5</td>\n",
       "      <td>Accomodation &amp; Food Services</td>\n",
       "      <td>Leinster</td>\n",
       "      <td>29/06/2020</td>\n",
       "    </tr>\n",
       "  </tbody>\n",
       "</table>\n",
       "<p>100 rows × 7 columns</p>\n",
       "</div>"
      ],
      "text/plain": [
       "                 Name  Gender  Age  Tenure                    Job_Sector  \\\n",
       "0        Mark Leonard    Male   35      12  Accomodation & Food Services   \n",
       "1     Darragh McGowan    Male   18       1  Accomodation & Food Services   \n",
       "2           Amy Walsh  Female   36      13  Accomodation & Food Services   \n",
       "3          Liam OHara    Male   39      18       Agriculture & Fisheries   \n",
       "4        Adrian Harte    Male   25       3                 Manufacturing   \n",
       "..                ...     ...  ...     ...                           ...   \n",
       "95     Elaine ORourke  Female   24       1                        Retail   \n",
       "96          Ciara Lee  Female   42       6  Accomodation & Food Services   \n",
       "97  Michelle Reynolds  Female   32       4                        Beauty   \n",
       "98      Rose Rafferty  Female   24       4     Professional & Scientific   \n",
       "99       Lisa McNulty  Female   30       5  Accomodation & Food Services   \n",
       "\n",
       "    Province Deregistered  \n",
       "0   Leinster   29/06/2020  \n",
       "1     Ulster   29/06/2020  \n",
       "2     Ulster   29/06/2020  \n",
       "3    Munster   08/06/2020  \n",
       "4    Munster   29/06/2020  \n",
       "..       ...          ...  \n",
       "95  Leinster   08/06/2020  \n",
       "96  Leinster   29/06/2020  \n",
       "97  Leinster   29/06/2020  \n",
       "98  Leinster   29/06/2020  \n",
       "99  Leinster   29/06/2020  \n",
       "\n",
       "[100 rows x 7 columns]"
      ]
     },
     "execution_count": 12,
     "metadata": {},
     "output_type": "execute_result"
    }
   ],
   "source": [
    "import pandas as pd\n",
    "\n",
    "df = pd.read_csv(\"C:\\DA_Projects\\Programming\\Project\\Project-Programming/PUP_Payment_Dataset.csv\")\n",
    "df"
   ]
  },
  {
   "cell_type": "code",
   "execution_count": 51,
   "metadata": {},
   "outputs": [
    {
     "data": {
      "image/png": "[encoded data removed]",
      "text/plain": [
       "<Figure size 432x288 with 1 Axes>"
      ]
     },
     "metadata": {
      "needs_background": "light"
     },
     "output_type": "display_data"
    }
   ],
   "source": [
    "import seaborn as sns\n",
    "import matplotlib.pyplot as plt\n",
    "\n",
    "plt.hist(df[\"Province\"], bins=10)\n",
    "plt.ylabel(\"Number\")\n",
    "plt.title(\"Histogram of Province\")\n",
    "plt.show()"
   ]
  },
  {
   "cell_type": "code",
   "execution_count": 55,
   "metadata": {},
   "outputs": [
    {
     "data": {
      "image/png": "[encoded data removed]",
      "text/plain": [
       "<Figure size 432x288 with 1 Axes>"
      ]
     },
     "metadata": {
      "needs_background": "light"
     },
     "output_type": "display_data"
    }
   ],
   "source": [
    "import seaborn as sns\n",
    "import matplotlib.pyplot as plt\n",
    "\n",
    "plt.hist(df[\"Gender\"], bins=5)\n",
    "plt.ylabel(\"Number\")\n",
    "plt.title(\"Histogram of Gender\")\n",
    "plt.show()"
   ]
  },
  {
   "cell_type": "code",
   "execution_count": 56,
   "metadata": {},
   "outputs": [
    {
     "data": {
      "image/png": "[encoded data removed]",
      "text/plain": [
       "<Figure size 432x288 with 1 Axes>"
      ]
     },
     "metadata": {
      "needs_background": "light"
     },
     "output_type": "display_data"
    }
   ],
   "source": [
    "import seaborn as sns\n",
    "import matplotlib.pyplot as plt\n",
    "\n",
    "plt.hist(df[\"Deregistered\"], bins=5)\n",
    "plt.ylabel(\"Number\")\n",
    "plt.title(\"De-registered\")\n",
    "plt.show()"
   ]
  },
  {
   "cell_type": "code",
   "execution_count": 58,
   "metadata": {},
   "outputs": [
    {
     "ename": "TypeError",
     "evalue": "'str' object is not callable",
     "output_type": "error",
     "traceback": [
      "\u001b[1;31m---------------------------------------------------------------------------\u001b[0m",
      "\u001b[1;31mTypeError\u001b[0m                                 Traceback (most recent call last)",
      "\u001b[1;32m<ipython-input-58-f9c8d422cbfc>\u001b[0m in \u001b[0;36m<module>\u001b[1;34m\u001b[0m\n\u001b[0;32m      4\u001b[0m \u001b[0mplt\u001b[0m\u001b[1;33m.\u001b[0m\u001b[0mhist\u001b[0m\u001b[1;33m(\u001b[0m\u001b[0mdf\u001b[0m\u001b[1;33m[\u001b[0m\u001b[1;34m\"Tenure\"\u001b[0m\u001b[1;33m]\u001b[0m\u001b[1;33m,\u001b[0m \u001b[0mbins\u001b[0m\u001b[1;33m=\u001b[0m\u001b[1;36m5\u001b[0m\u001b[1;33m)\u001b[0m\u001b[1;33m\u001b[0m\u001b[1;33m\u001b[0m\u001b[0m\n\u001b[0;32m      5\u001b[0m \u001b[0mplt\u001b[0m\u001b[1;33m.\u001b[0m\u001b[0mylabel\u001b[0m\u001b[1;33m(\u001b[0m\u001b[1;34m\"Number\"\u001b[0m\u001b[1;33m)\u001b[0m\u001b[1;33m\u001b[0m\u001b[1;33m\u001b[0m\u001b[0m\n\u001b[1;32m----> 6\u001b[1;33m \u001b[0mplt\u001b[0m\u001b[1;33m.\u001b[0m\u001b[0mxlabel\u001b[0m\u001b[1;33m(\u001b[0m\u001b[1;34m\"Tenure\"\u001b[0m\u001b[1;33m)\u001b[0m\u001b[1;33m\u001b[0m\u001b[1;33m\u001b[0m\u001b[0m\n\u001b[0m\u001b[0;32m      7\u001b[0m \u001b[0mplt\u001b[0m\u001b[1;33m.\u001b[0m\u001b[0mtitle\u001b[0m\u001b[1;33m(\u001b[0m\u001b[1;34m\"Histogram of Tenure\"\u001b[0m\u001b[1;33m)\u001b[0m\u001b[1;33m\u001b[0m\u001b[1;33m\u001b[0m\u001b[0m\n\u001b[0;32m      8\u001b[0m \u001b[0mplt\u001b[0m\u001b[1;33m.\u001b[0m\u001b[0mshow\u001b[0m\u001b[1;33m(\u001b[0m\u001b[1;33m)\u001b[0m\u001b[1;33m\u001b[0m\u001b[1;33m\u001b[0m\u001b[0m\n",
      "\u001b[1;31mTypeError\u001b[0m: 'str' object is not callable"
     ]
    },
    {
     "data": {
      "image/png": "[encoded data removed]",
      "text/plain": [
       "<Figure size 432x288 with 1 Axes>"
      ]
     },
     "metadata": {
      "needs_background": "light"
     },
     "output_type": "display_data"
    }
   ],
   "source": [
    "import seaborn as sns\n",
    "import matplotlib.pyplot as plt\n",
    "\n",
    "plt.hist(df[\"Tenure\"], bins=5)\n",
    "plt.ylabel(\"Number\")\n",
    "#plt.xlabel(\"Tenure\")\n",
    "plt.title(\"Histogram of Tenure\")\n",
    "plt.show()"
   ]
  },
  {
   "cell_type": "markdown",
   "metadata": {},
   "source": [
    "### References"
   ]
  },
  {
   "cell_type": "markdown",
   "metadata": {},
   "source": [
    "[1]-UCI: Machine Learning Repository; https://archive.ics.uci.edu/ml/datasets.php\n",
    "\n",
    "[2]-Vincent Arel Bundock: Available datasets; https://vincentarelbundock.github.io/Rdatasets/articles/data.html\n",
    "\n",
    "[3]-wikihow: How to Create a CSV File; https://www.wikihow.com/Create-a-CSV-File\n",
    "\n",
    "[4]-Citizens Information: COVID-19 Pandemic Unemployment Payment; https://www.citizensinformation.ie/en/social_welfare/social_welfare_payments/unemployed_people/covid19_pandemic_unemployment_payment.html#\n",
    "\n",
    "\n",
    "[3]-gov.ie: COVID-19 Pandemic Unemployment Payment; https://www.gov.ie/en/service/be74d3-covid-19-pandemic-unemployment-payment/#\n",
    "\n",
    "\n",
    "\n"
   ]
  },
  {
   "cell_type": "code",
   "execution_count": null,
   "metadata": {},
   "outputs": [],
   "source": []
  }
 ],
 "metadata": {
  "kernelspec": {
   "display_name": "Python 3",
   "language": "python",
   "name": "python3"
  },
  "language_info": {
   "codemirror_mode": {
    "name": "ipython",
    "version": 3
   },
   "file_extension": ".py",
   "mimetype": "text/x-python",
   "name": "python",
   "nbconvert_exporter": "python",
   "pygments_lexer": "ipython3",
   "version": "3.8.5"
  }
 },
 "nbformat": 4,
 "nbformat_minor": 4
}
